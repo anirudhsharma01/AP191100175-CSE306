{
 "cells": [
  {
   "cell_type": "code",
   "execution_count": 1,
   "metadata": {},
   "outputs": [
    {
     "name": "stdout",
     "output_type": "stream",
     "text": [
      "Enter a Charecter :- aabb\n",
      "string accepted\n"
     ]
    }
   ],
   "source": [
    "a = input('Enter a Charecter :- ')\n",
    "state = 0\n",
    "for i in a:\n",
    "   \n",
    "    if state == 0 :\n",
    "        if i == 'a':\n",
    "            state = 1\n",
    "        elif i == 'b':\n",
    "            state = 3\n",
    "        else:\n",
    "            print('error')\n",
    "        temp = 1\n",
    "    elif state == 1:\n",
    "        if i == 'a':\n",
    "            state = 0\n",
    "        elif i == 'b':\n",
    "            state = 2\n",
    "        else:\n",
    "            print('error')\n",
    "        temp = 1\n",
    "    elif state == 2:\n",
    "        if i == 'a':\n",
    "            state = 3\n",
    "        elif i == 'b':\n",
    "            state = 1\n",
    "        else:\n",
    "            print('error')\n",
    "        temp = 1\n",
    "    elif state == 3:\n",
    "        if i == 'a':\n",
    "            state = 2\n",
    "        elif i == 'b':\n",
    "            state = 0\n",
    "        else:\n",
    "            print('error')\n",
    "        temp = 1\n",
    "if state == 0:\n",
    "    print('string accepted')\n",
    "else:\n",
    "    print('not accepted')\n",
    "    "
   ]
  },
  {
   "cell_type": "code",
   "execution_count": 2,
   "metadata": {},
   "outputs": [
    {
     "name": "stdout",
     "output_type": "stream",
     "text": [
      "enter the character:aaaabbbb\n",
      "accepted\n"
     ]
    }
   ],
   "source": [
    "current = input(\"enter the character:\")\n",
    "state=0\n",
    "for i in current:\n",
    "    if state==0:\n",
    "        if i==\"a\":\n",
    "            state=1\n",
    "        elif i==\"b\":\n",
    "            state=2\n",
    "        else:\n",
    "            print(\"error\")\n",
    "    elif state==1:\n",
    "        if i==\"a\":\n",
    "            state=3\n",
    "        elif i==\"b\":\n",
    "            state=2\n",
    "        else:\n",
    "            print(\"error\")\n",
    "    elif state==2:\n",
    "        if i==\"a\":\n",
    "            state=1\n",
    "        elif i==\"b\":\n",
    "            state=4\n",
    "        else:\n",
    "            print(\"error\")\n",
    "    elif state==3:\n",
    "        if i==\"a\":\n",
    "            state=3\n",
    "        elif i==\"b\":\n",
    "            state=2\n",
    "        else:\n",
    "            print(\"error\")\n",
    "    elif state==4:\n",
    "        if i==\"a\":\n",
    "            state=1\n",
    "        elif i==\"b\":\n",
    "            state=4\n",
    "        else:\n",
    "            print(\"error\")\n",
    "if state==3 or state==4:\n",
    "    print(\"accepted\")\n",
    "else:\n",
    "    print(\"not accepted\")\n",
    "    "
   ]
  },
  {
   "cell_type": "code",
   "execution_count": null,
   "metadata": {},
   "outputs": [],
   "source": []
  }
 ],
 "metadata": {
  "kernelspec": {
   "display_name": "Python 3",
   "language": "python",
   "name": "python3"
  },
  "language_info": {
   "codemirror_mode": {
    "name": "ipython",
    "version": 3
   },
   "file_extension": ".py",
   "mimetype": "text/x-python",
   "name": "python",
   "nbconvert_exporter": "python",
   "pygments_lexer": "ipython3",
   "version": "3.8.3"
  }
 },
 "nbformat": 4,
 "nbformat_minor": 4
}
